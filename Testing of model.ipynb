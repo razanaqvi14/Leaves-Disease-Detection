{
 "cells": [
  {
   "cell_type": "code",
   "execution_count": 1,
   "id": "6f6be0a5-ecc0-4ce1-ac23-0fcbda9d6228",
   "metadata": {},
   "outputs": [],
   "source": [
    "import tensorflow as tf\n",
    "import cv2 as cv\n",
    "import numpy as np"
   ]
  },
  {
   "cell_type": "code",
   "execution_count": 2,
   "id": "c4440723-6e8e-42ad-97bf-4dc166efabc5",
   "metadata": {},
   "outputs": [],
   "source": [
    "loaded_model = tf.keras.models.load_model(\"./models/1.keras\")"
   ]
  },
  {
   "cell_type": "code",
   "execution_count": 3,
   "id": "df938577-486b-499b-8e01-5df19cf60e29",
   "metadata": {},
   "outputs": [],
   "source": [
    "class_names = ['Potato___Early_blight', 'Potato___Late_blight', 'Potato___healthy']"
   ]
  },
  {
   "cell_type": "code",
   "execution_count": 4,
   "id": "e02e698e-97bd-49aa-823f-3920f2a4f481",
   "metadata": {},
   "outputs": [],
   "source": [
    "image_as_an_array = cv.imread(\"./Data/Potato/Potato___healthy/00fc2ee5-729f-4757-8aeb-65c3355874f2___RS_HL 1864.JPG\")"
   ]
  },
  {
   "cell_type": "code",
   "execution_count": 5,
   "id": "88ab0ec3-b345-4131-8f5b-a8ba92f503ca",
   "metadata": {},
   "outputs": [],
   "source": [
    "image_as_an_array = image_as_an_array[np.newaxis, ...]"
   ]
  },
  {
   "cell_type": "code",
   "execution_count": 6,
   "id": "e55eea30-7705-4671-8594-1f1c4cd4593b",
   "metadata": {},
   "outputs": [
    {
     "data": {
      "text/plain": [
       "(1, 256, 256, 3)"
      ]
     },
     "execution_count": 6,
     "metadata": {},
     "output_type": "execute_result"
    }
   ],
   "source": [
    "image_as_an_array.shape"
   ]
  },
  {
   "cell_type": "code",
   "execution_count": 7,
   "id": "bc937af4-c658-4076-b089-58b07a2027aa",
   "metadata": {},
   "outputs": [
    {
     "name": "stdout",
     "output_type": "stream",
     "text": [
      "\u001b[1m1/1\u001b[0m \u001b[32m━━━━━━━━━━━━━━━━━━━━\u001b[0m\u001b[37m\u001b[0m \u001b[1m0s\u001b[0m 151ms/step\n"
     ]
    },
    {
     "data": {
      "text/plain": [
       "'Potato___healthy'"
      ]
     },
     "execution_count": 7,
     "metadata": {},
     "output_type": "execute_result"
    }
   ],
   "source": [
    "class_names[np.argmax(loaded_model.predict(image_as_an_array))]"
   ]
  },
  {
   "cell_type": "code",
   "execution_count": null,
   "id": "be68dd37-49b0-4c7b-8cfe-64cefff8360c",
   "metadata": {},
   "outputs": [],
   "source": []
  }
 ],
 "metadata": {
  "kernelspec": {
   "display_name": "Python 3 (ipykernel)",
   "language": "python",
   "name": "python3"
  },
  "language_info": {
   "codemirror_mode": {
    "name": "ipython",
    "version": 3
   },
   "file_extension": ".py",
   "mimetype": "text/x-python",
   "name": "python",
   "nbconvert_exporter": "python",
   "pygments_lexer": "ipython3",
   "version": "3.12.2"
  }
 },
 "nbformat": 4,
 "nbformat_minor": 5
}
